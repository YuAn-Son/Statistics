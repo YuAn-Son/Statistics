{
  "nbformat": 4,
  "nbformat_minor": 0,
  "metadata": {
    "colab": {
      "name": "chapter3.ipynb",
      "provenance": [],
      "toc_visible": true,
      "authorship_tag": "ABX9TyOoOvrsT44NI5yAsdrjvCjt",
      "include_colab_link": true
    },
    "kernelspec": {
      "name": "python3",
      "display_name": "Python 3"
    },
    "language_info": {
      "name": "python"
    }
  },
  "cells": [
    {
      "cell_type": "markdown",
      "metadata": {
        "id": "view-in-github",
        "colab_type": "text"
      },
      "source": [
        "<a href=\"https://colab.research.google.com/github/YuAn-Son/Statistics/blob/main/chapter3.ipynb\" target=\"_parent\"><img src=\"https://colab.research.google.com/assets/colab-badge.svg\" alt=\"Open In Colab\"/></a>"
      ]
    },
    {
      "cell_type": "code",
      "execution_count": null,
      "metadata": {
        "id": "yaKp-FHPPOUN"
      },
      "outputs": [],
      "source": [
        "import numpy as np\n",
        "drink = np.array([101.8, 101.5, 101.8, 102.6, 101, 96.8, 102.4, 100, 98.8, 98.1,\n",
        "                  98.8, 98, 99.4, 95.5, 100.1, 100.5, 97.4, 100.2, 101.4, 98.7,\n",
        "                  101.4, 99.4, 101.7, 99, 99.7, 98.9, 99.5, 100, 99.7, 100.9,\n",
        "                  99.7, 99, 98.8, 99.7, 100.9, 99.9, 97.5, 101.5, 98.2, 99.2,\n",
        "                  98.6, 101.4, 102.1, 102.9, 100.8, 99.4, 103.7, 100.3, 100.2, 101.1, \n",
        "                  101.8, 100, 101.2, 100.5, 101.2, 101.6, 99.9, 100.5, 100.4, 98,\n",
        "                  100.1, 101.6, 99.3, 96.1, 100, 99.7, 99.7, 99.4, 101.5, 100.9,\n",
        "                  101.3, 99.9, 99.1, 100.7, 100.8, 100.8, 101.4, 100.3, 98.4, 97.2])"
      ]
    },
    {
      "cell_type": "markdown",
      "source": [
        "# 평균"
      ],
      "metadata": {
        "id": "ZyiMhOGPQHbW"
      }
    },
    {
      "cell_type": "code",
      "source": [
        "np.mean(drink)"
      ],
      "metadata": {
        "colab": {
          "base_uri": "https://localhost:8080/"
        },
        "id": "dbkm3AsjQJnv",
        "outputId": "97011d92-d7be-4d71-d8f7-21643183c94b"
      },
      "execution_count": null,
      "outputs": [
        {
          "output_type": "execute_result",
          "data": {
            "text/plain": [
              "100.04"
            ]
          },
          "metadata": {},
          "execution_count": 2
        }
      ]
    },
    {
      "cell_type": "markdown",
      "source": [
        "# 중앙값"
      ],
      "metadata": {
        "id": "dXA0_-XPQQyZ"
      }
    },
    {
      "cell_type": "code",
      "source": [
        "np.median(drink)"
      ],
      "metadata": {
        "colab": {
          "base_uri": "https://localhost:8080/"
        },
        "id": "F5bOP-ECQPpZ",
        "outputId": "bfd1734f-67cc-4729-c9cf-559197ce0133"
      },
      "execution_count": null,
      "outputs": [
        {
          "output_type": "execute_result",
          "data": {
            "text/plain": [
              "100.05"
            ]
          },
          "metadata": {},
          "execution_count": 3
        }
      ]
    },
    {
      "cell_type": "markdown",
      "source": [
        "# 표본분산"
      ],
      "metadata": {
        "id": "omBkbUHsQam1"
      }
    },
    {
      "cell_type": "code",
      "source": [
        "#variance\n",
        "np.var(drink,ddof=1) #ddof(Delta Degrees of Freedom) 자유도"
      ],
      "metadata": {
        "colab": {
          "base_uri": "https://localhost:8080/"
        },
        "id": "CajCc9MhQeXV",
        "outputId": "e7f6804d-9833-457a-9357-0af9ab4e3a97"
      },
      "execution_count": null,
      "outputs": [
        {
          "output_type": "execute_result",
          "data": {
            "text/plain": [
              "2.321164556962026"
            ]
          },
          "metadata": {},
          "execution_count": 6
        }
      ]
    },
    {
      "cell_type": "markdown",
      "source": [
        "# 표본표준편차"
      ],
      "metadata": {
        "id": "Y--pElBXRFhA"
      }
    },
    {
      "cell_type": "code",
      "source": [
        "#standard deviation\n",
        "np.std(drink, ddof=1)"
      ],
      "metadata": {
        "colab": {
          "base_uri": "https://localhost:8080/"
        },
        "id": "Lqny-7KIQfSN",
        "outputId": "521e0463-43bf-4b97-8f48-a2249eb5f010"
      },
      "execution_count": null,
      "outputs": [
        {
          "output_type": "execute_result",
          "data": {
            "text/plain": [
              "1.5235368577628918"
            ]
          },
          "metadata": {},
          "execution_count": 7
        }
      ]
    },
    {
      "cell_type": "markdown",
      "source": [
        "# 범위"
      ],
      "metadata": {
        "id": "oQ7KRnEGRyOl"
      }
    },
    {
      "cell_type": "code",
      "source": [
        "#range\n",
        "np.max(drink) - np.min(drink)"
      ],
      "metadata": {
        "colab": {
          "base_uri": "https://localhost:8080/"
        },
        "id": "fTgZbUHgRzeJ",
        "outputId": "a8b4a616-0f5d-4562-e7a5-711650aabca2"
      },
      "execution_count": null,
      "outputs": [
        {
          "output_type": "execute_result",
          "data": {
            "text/plain": [
              "8.200000000000003"
            ]
          },
          "metadata": {},
          "execution_count": 8
        }
      ]
    },
    {
      "cell_type": "markdown",
      "source": [
        "# 백분위수 "
      ],
      "metadata": {
        "id": "1TcV5hQDRUlb"
      }
    },
    {
      "cell_type": "code",
      "source": [
        "#percentile\n",
        "np.percentile(drink,20)"
      ],
      "metadata": {
        "colab": {
          "base_uri": "https://localhost:8080/"
        },
        "id": "AcAyGE-KRLnr",
        "outputId": "69be802e-f656-40f0-f951-038decf9d9dc"
      },
      "execution_count": null,
      "outputs": [
        {
          "output_type": "execute_result",
          "data": {
            "text/plain": [
              "98.88000000000001"
            ]
          },
          "metadata": {},
          "execution_count": 9
        }
      ]
    },
    {
      "cell_type": "code",
      "source": [
        "#사분위수범위(interquartile range)\n",
        "q1,q3 = np.percentile(drink,[25,75])\n",
        "q3-q1"
      ],
      "metadata": {
        "colab": {
          "base_uri": "https://localhost:8080/"
        },
        "id": "zQLWDbT6ScS5",
        "outputId": "a935a3b0-cd69-44cc-b035-13cad5490704"
      },
      "execution_count": null,
      "outputs": [
        {
          "output_type": "execute_result",
          "data": {
            "text/plain": [
              "2.0249999999999915"
            ]
          },
          "metadata": {},
          "execution_count": 11
        }
      ]
    },
    {
      "cell_type": "markdown",
      "source": [
        "# **통계량 요약**"
      ],
      "metadata": {
        "id": "uCQt-d3MS_uI"
      }
    },
    {
      "cell_type": "code",
      "source": [
        "import pandas as pd\n",
        "drink_df = pd.DataFrame(drink)\n",
        "summary = drink_df.describe()\n",
        "print(summary)"
      ],
      "metadata": {
        "colab": {
          "base_uri": "https://localhost:8080/"
        },
        "id": "-libfiuHSzhY",
        "outputId": "b4b79ba3-89b8-449b-de00-56fe23f75c97"
      },
      "execution_count": null,
      "outputs": [
        {
          "output_type": "stream",
          "name": "stdout",
          "text": [
            "                0\n",
            "count   80.000000\n",
            "mean   100.040000\n",
            "std      1.523537\n",
            "min     95.500000\n",
            "25%     99.175000\n",
            "50%    100.050000\n",
            "75%    101.200000\n",
            "max    103.700000\n"
          ]
        }
      ]
    },
    {
      "cell_type": "markdown",
      "source": [
        "describe()의 std값은 *자유도 n-1*,\n",
        "\n",
        "numpy 모듈의 함수 std는 *자유도 n*\n",
        "\n",
        "describe()의 std값을 얻으려면 np.std(drink, ddof=1) 사용"
      ],
      "metadata": {
        "id": "Qt-_WCbtTeE4"
      }
    },
    {
      "cell_type": "markdown",
      "source": [
        "# 변동계수"
      ],
      "metadata": {
        "id": "4PuzR2tzUytm"
      }
    },
    {
      "cell_type": "markdown",
      "source": [
        "단위나 중심위치가 매우 다른 두 개 이상의 분포를 비교할 때\n",
        "\n",
        "상대적으로 퍼진 정도를 나타내는 수치"
      ],
      "metadata": {
        "id": "XTkT7JoJVJKu"
      }
    },
    {
      "cell_type": "code",
      "source": [
        "#coefficient of variation\n",
        "cv = np.std(drink)/np.mean(drink)*100\n",
        "cv"
      ],
      "metadata": {
        "colab": {
          "base_uri": "https://localhost:8080/"
        },
        "id": "UxA-5oN7T8gq",
        "outputId": "4b70f39e-50d8-4bba-8d2e-37d647ccdc28"
      },
      "execution_count": null,
      "outputs": [
        {
          "output_type": "execute_result",
          "data": {
            "text/plain": [
              "1.51337945659557"
            ]
          },
          "metadata": {},
          "execution_count": 15
        }
      ]
    },
    {
      "cell_type": "markdown",
      "source": [
        "# 상자그림"
      ],
      "metadata": {
        "id": "862NKlZfVT6-"
      }
    },
    {
      "cell_type": "code",
      "source": [
        "import matplotlib.pyplot as plt\n",
        "fig, ax = plt.subplots()\n",
        "ax.boxplot(drink)\n",
        "plt.show()"
      ],
      "metadata": {
        "colab": {
          "base_uri": "https://localhost:8080/",
          "height": 267
        },
        "id": "wrhSPnABWcjZ",
        "outputId": "97b6d38b-33dc-4663-b703-76c4ab9912f6"
      },
      "execution_count": null,
      "outputs": [
        {
          "output_type": "display_data",
          "data": {
            "image/png": "[encoded data removed]",
            "text/plain": [
              "<Figure size 432x288 with 1 Axes>"
            ]
          },
          "metadata": {
            "needs_background": "light"
          }
        }
      ]
    }
  ]
}