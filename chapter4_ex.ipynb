{
  "nbformat": 4,
  "nbformat_minor": 0,
  "metadata": {
    "colab": {
      "name": "chapter4_ex.ipynb",
      "provenance": [],
      "authorship_tag": "ABX9TyMA80CqFQLtx91zn7HEVq7I",
      "include_colab_link": true
    },
    "kernelspec": {
      "name": "python3",
      "display_name": "Python 3"
    },
    "language_info": {
      "name": "python"
    }
  },
  "cells": [
    {
      "cell_type": "markdown",
      "metadata": {
        "id": "view-in-github",
        "colab_type": "text"
      },
      "source": [
        "<a href=\"https://colab.research.google.com/github/YuAn-Son/Statistics/blob/main/chapter4_ex.ipynb\" target=\"_parent\"><img src=\"https://colab.research.google.com/assets/colab-badge.svg\" alt=\"Open In Colab\"/></a>"
      ]
    },
    {
      "cell_type": "code",
      "source": [
        "!sudo apt-get install -y fonts-nanum\n",
        "!sudo fc-cache -fv\n",
        "!rm ~/.cache/matplotlib -rf"
      ],
      "metadata": {
        "id": "6F21sdW6tylY"
      },
      "execution_count": null,
      "outputs": []
    },
    {
      "cell_type": "code",
      "source": [
        "from matplotlib import rc\n",
        "font_name = 'NanumBarunGothic'\n",
        "rc('font', family = font_name)"
      ],
      "metadata": {
        "id": "5UNWiC7_ts-7"
      },
      "execution_count": 1,
      "outputs": []
    },
    {
      "cell_type": "markdown",
      "source": [
        "# 5.17"
      ],
      "metadata": {
        "id": "aa2j4901rry7"
      }
    },
    {
      "cell_type": "code",
      "execution_count": 2,
      "metadata": {
        "id": "sFkAZNqurom3"
      },
      "outputs": [],
      "source": [
        "import numpy as np\n",
        "x = [8.7, 9, 11, 8.5, 9.2, 12, 12, 18]\n",
        "y = [25, 25, 26, 48, 65, 87, 90, 100]"
      ]
    },
    {
      "cell_type": "code",
      "source": [
        "np.corrcoef(x,y)[0][1]"
      ],
      "metadata": {
        "colab": {
          "base_uri": "https://localhost:8080/"
        },
        "id": "-d0GYfSpsM43",
        "outputId": "0df4c129-3bf6-4171-80ad-e0cdb7658998"
      },
      "execution_count": 3,
      "outputs": [
        {
          "output_type": "execute_result",
          "data": {
            "text/plain": [
              "0.7297481509285129"
            ]
          },
          "metadata": {},
          "execution_count": 3
        }
      ]
    },
    {
      "cell_type": "code",
      "source": [
        "import matplotlib.pyplot as plt\n",
        "\n",
        "fig, ax = plt.subplots()\n",
        "ax.scatter(x,y, color='blue')\n",
        "plt.xlabel('마그네슘의 양')\n",
        "plt.ylabel('맛 지수')\n",
        "plt.show()"
      ],
      "metadata": {
        "colab": {
          "base_uri": "https://localhost:8080/",
          "height": 279
        },
        "id": "jz2dIk7TtKTk",
        "outputId": "af56f7ad-fa69-4adf-b9d8-1bf90b4f2056"
      },
      "execution_count": 4,
      "outputs": [
        {
          "output_type": "display_data",
          "data": {
            "image/png": "[encoded data removed]",
            "text/plain": [
              "<Figure size 432x288 with 1 Axes>"
            ]
          },
          "metadata": {
            "needs_background": "light"
          }
        }
      ]
    },
    {
      "cell_type": "markdown",
      "source": [
        "# 5.18"
      ],
      "metadata": {
        "id": "qWD9FLjYt60r"
      }
    },
    {
      "cell_type": "code",
      "source": [
        "import pandas as pd\n",
        "data = pd.read_csv('chap4_5.18.csv',header=0)\n",
        "x = np.array(data['x'])\n",
        "y = np.array(data['y'])"
      ],
      "metadata": {
        "id": "3C90Le23t8W_"
      },
      "execution_count": 6,
      "outputs": []
    },
    {
      "cell_type": "code",
      "source": [
        "import numpy as np\n",
        "np.corrcoef(x,y)[0][1]"
      ],
      "metadata": {
        "colab": {
          "base_uri": "https://localhost:8080/"
        },
        "id": "VBz9_HFnuc_k",
        "outputId": "d60f6697-4a20-4953-a5c7-80154b9752ee"
      },
      "execution_count": 7,
      "outputs": [
        {
          "output_type": "execute_result",
          "data": {
            "text/plain": [
              "0.40866722031239405"
            ]
          },
          "metadata": {},
          "execution_count": 7
        }
      ]
    },
    {
      "cell_type": "code",
      "source": [
        "import matplotlib.pyplot as plt\n",
        "fig, ax = plt.subplots()\n",
        "ax.scatter(x,y, color='red')\n",
        "plt.xlabel('수학')\n",
        "plt.ylabel('사회과학')\n",
        "plt.title('수학 성적과 사회과학 성적의 관계')\n",
        "plt.show()"
      ],
      "metadata": {
        "colab": {
          "base_uri": "https://localhost:8080/",
          "height": 294
        },
        "id": "Ta3oYDa-ujWT",
        "outputId": "3a0f8d0d-0901-4c92-ca44-1a1b45820d66"
      },
      "execution_count": 9,
      "outputs": [
        {
          "output_type": "display_data",
          "data": {
            "image/png": "[encoded data removed]",
            "text/plain": [
              "<Figure size 432x288 with 1 Axes>"
            ]
          },
          "metadata": {
            "needs_background": "light"
          }
        }
      ]
    }
  ]
}