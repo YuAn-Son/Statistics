{
  "nbformat": 4,
  "nbformat_minor": 0,
  "metadata": {
    "colab": {
      "name": "chapter2.ipynb",
      "provenance": [],
      "collapsed_sections": [],
      "toc_visible": true,
      "authorship_tag": "ABX9TyOeBR8mbewrJh37D7J7Wr8a",
      "include_colab_link": true
    },
    "kernelspec": {
      "name": "python3",
      "display_name": "Python 3"
    },
    "language_info": {
      "name": "python"
    }
  },
  "cells": [
    {
      "cell_type": "markdown",
      "metadata": {
        "id": "view-in-github",
        "colab_type": "text"
      },
      "source": [
        "<a href=\"https://colab.research.google.com/github/YuAn-Son/Statistics/blob/main/chapter2.ipynb\" target=\"_parent\"><img src=\"https://colab.research.google.com/assets/colab-badge.svg\" alt=\"Open In Colab\"/></a>"
      ]
    },
    {
      "cell_type": "code",
      "source": [
        "!sudo apt-get install -y fonts-nanum\n",
        "!sudo fc-cache -fv\n",
        "!rm ~/.cache/matplotlib -rf\n",
        "#colab 에서 한글 깨짐 현상 해결방법 (위 코드 입력->런타임 다시 시작)"
      ],
      "metadata": {
        "colab": {
          "base_uri": "https://localhost:8080/"
        },
        "id": "wNnegflcauJE",
        "outputId": "c7f2cd30-f2b5-4bce-f65d-0e6e6f43fae7"
      },
      "execution_count": null,
      "outputs": [
        {
          "output_type": "stream",
          "name": "stdout",
          "text": [
            "Reading package lists... Done\n",
            "Building dependency tree       \n",
            "Reading state information... Done\n",
            "The following NEW packages will be installed:\n",
            "  fonts-nanum\n",
            "0 upgraded, 1 newly installed, 0 to remove and 37 not upgraded.\n",
            "Need to get 9,604 kB of archives.\n",
            "After this operation, 29.5 MB of additional disk space will be used.\n",
            "Get:1 http://archive.ubuntu.com/ubuntu bionic/universe amd64 fonts-nanum all 20170925-1 [9,604 kB]\n",
            "Fetched 9,604 kB in 3s (3,189 kB/s)\n",
            "debconf: unable to initialize frontend: Dialog\n",
            "debconf: (No usable dialog-like program is installed, so the dialog based frontend cannot be used. at /usr/share/perl5/Debconf/FrontEnd/Dialog.pm line 76, <> line 1.)\n",
            "debconf: falling back to frontend: Readline\n",
            "debconf: unable to initialize frontend: Readline\n",
            "debconf: (This frontend requires a controlling tty.)\n",
            "debconf: falling back to frontend: Teletype\n",
            "dpkg-preconfigure: unable to re-open stdin: \n",
            "Selecting previously unselected package fonts-nanum.\n",
            "(Reading database ... 155222 files and directories currently installed.)\n",
            "Preparing to unpack .../fonts-nanum_20170925-1_all.deb ...\n",
            "Unpacking fonts-nanum (20170925-1) ...\n",
            "Setting up fonts-nanum (20170925-1) ...\n",
            "Processing triggers for fontconfig (2.12.6-0ubuntu2) ...\n",
            "/usr/share/fonts: caching, new cache contents: 0 fonts, 1 dirs\n",
            "/usr/share/fonts/truetype: caching, new cache contents: 0 fonts, 3 dirs\n",
            "/usr/share/fonts/truetype/humor-sans: caching, new cache contents: 1 fonts, 0 dirs\n",
            "/usr/share/fonts/truetype/liberation: caching, new cache contents: 16 fonts, 0 dirs\n",
            "/usr/share/fonts/truetype/nanum: caching, new cache contents: 10 fonts, 0 dirs\n",
            "/usr/local/share/fonts: caching, new cache contents: 0 fonts, 0 dirs\n",
            "/root/.local/share/fonts: skipping, no such directory\n",
            "/root/.fonts: skipping, no such directory\n",
            "/var/cache/fontconfig: cleaning cache directory\n",
            "/root/.cache/fontconfig: not cleaning non-existent cache directory\n",
            "/root/.fontconfig: not cleaning non-existent cache directory\n",
            "fc-cache: succeeded\n"
          ]
        }
      ]
    },
    {
      "cell_type": "code",
      "source": [
        "from matplotlib import rc\n",
        "font_name = 'NanumBarunGothic'\n",
        "rc('font', family = font_name)"
      ],
      "metadata": {
        "id": "X2TP4I17PmIx"
      },
      "execution_count": null,
      "outputs": []
    },
    {
      "cell_type": "markdown",
      "source": [
        "# **점도표**"
      ],
      "metadata": {
        "id": "H2Y56PzDf31_"
      }
    },
    {
      "cell_type": "code",
      "source": [
        "import matplotlib.pyplot as plt\n",
        "y = []\n",
        "data = [4.4, 4.7, 5.3, 5.7, 7.6, 5.2, 5.4, 5.5]\n",
        "for i in range(len(data)):\n",
        "    y.append(0)\n",
        " \n",
        "plt.plot(data, y, marker='o', linewidth=0)\n",
        "plt.show()"
      ],
      "metadata": {
        "colab": {
          "base_uri": "https://localhost:8080/",
          "height": 337
        },
        "id": "Bu5xhlKmf5dl",
        "outputId": "dd228336-b006-4f05-82ae-dba616370777"
      },
      "execution_count": null,
      "outputs": [
        {
          "output_type": "stream",
          "name": "stderr",
          "text": [
            "/usr/local/lib/python3.7/dist-packages/matplotlib/backends/backend_agg.py:214: RuntimeWarning: Glyph 8722 missing from current font.\n",
            "  font.set_text(s, 0.0, flags=flags)\n",
            "/usr/local/lib/python3.7/dist-packages/matplotlib/backends/backend_agg.py:183: RuntimeWarning: Glyph 8722 missing from current font.\n",
            "  font.set_text(s, 0, flags=flags)\n"
          ]
        },
        {
          "output_type": "display_data",
          "data": {
            "image/png": "[encoded data removed]",
            "text/plain": [
              "<Figure size 432x288 with 1 Axes>"
            ]
          },
          "metadata": {
            "needs_background": "light"
          }
        }
      ]
    },
    {
      "cell_type": "markdown",
      "source": [
        "# **도수분포표**"
      ],
      "metadata": {
        "id": "CsMgTx7aWen_"
      }
    },
    {
      "cell_type": "code",
      "execution_count": null,
      "metadata": {
        "id": "kzLnpRNKPYJN"
      },
      "outputs": [],
      "source": [
        "import numpy as np\n",
        "death = np.array([2, 1, 2, 4, 2, 5, 3, 3, 5, 6, 3, 8, 3,\n",
        "                  3, 6, 3, 6, 5, 3, 5, 2, 6, 2, 3, 4, 3, \n",
        "                  2, 9, 2, 2, 3, 2, 7, 3, 2, 10, 6, 2, 3, \n",
        "                  1, 2, 3, 3, 4, 3, 2, 6, 2, 2, 3, 2, 3,\n",
        "                  4, 3, 2, 3, 5, 2, 5, 5, 3, 4, 3, 6, 2,\n",
        "                  1, 2, 3, 2, 6, 3, 3, 6, 3, 2, 3, 6, 4,\n",
        "                  6, 5, 3, 5, 6, 2, 6, 3, 2, 3, 2, 6, 2,\n",
        "                  6, 3, 3, 2, 6, 9, 6, 3, 6, 6, 2, 3, 2,\n",
        "                  3, 5, 3, 5, 2, 3, 2, 3, 3, 1, 3, 3, 2,\n",
        "                  3, 3, 4, 3, 6, 6, 3, 3, 3, 2, 3, 3, 6])"
      ]
    },
    {
      "cell_type": "code",
      "source": [
        "import pandas as pd\n",
        "table = pd.crosstab(index = death, colnames = [\"질병\"], columns = '도수')\n",
        "table.index = [\"감염\", \"각종암\", \"순환기\", \"호흡기\", \"소화기\",\n",
        "               \"사고사\", \"비뇨기\", \"정신병\", \"노환\", \"신경계\"]\n",
        "print(table)"
      ],
      "metadata": {
        "colab": {
          "base_uri": "https://localhost:8080/"
        },
        "id": "FXwdJFtURQle",
        "outputId": "bfc49bd1-7495-4e4a-c725-fa84e042ba42"
      },
      "execution_count": null,
      "outputs": [
        {
          "output_type": "stream",
          "name": "stdout",
          "text": [
            "질병   도수\n",
            "감염    4\n",
            "각종암  33\n",
            "순환기  48\n",
            "호흡기   7\n",
            "소화기  11\n",
            "사고사  22\n",
            "비뇨기   1\n",
            "정신병   1\n",
            "노환    2\n",
            "신경계   1\n"
          ]
        }
      ]
    },
    {
      "cell_type": "markdown",
      "source": [
        "# **막대그래프**"
      ],
      "metadata": {
        "id": "AyhEGB0Bb3-u"
      }
    },
    {
      "cell_type": "code",
      "source": [
        "from matplotlib import rc\n",
        "font_name = 'NanumBarunGothic'\n",
        "rc('font', family = font_name)\n",
        "\n",
        "import matplotlib.pyplot as plt\n",
        "table.plot(kind = 'bar', color = 'bgrck', legend = False) #색상 지정문자(blue=b, green=g, red=r, cyan=c, black=k)\n",
        "plt.xlabel('사망원인')\n",
        "plt.ylabel(\"빈도수\")\n",
        "plt.title(\"사망원인에 따른 막대그래프\")\n",
        "plt.xticks(rotation = 0)\n",
        "plt.show()"
      ],
      "metadata": {
        "colab": {
          "base_uri": "https://localhost:8080/",
          "height": 350
        },
        "id": "UIIXxg6xSw7r",
        "outputId": "cc47d06e-12a9-4586-a283-47bc5bd41dc7"
      },
      "execution_count": null,
      "outputs": [
        {
          "output_type": "stream",
          "name": "stderr",
          "text": [
            "/usr/local/lib/python3.7/dist-packages/pandas/plotting/_matplotlib/core.py:1373: MatplotlibDeprecationWarning: Using a string of single character colors as a color sequence is deprecated. Use an explicit list instead.\n",
            "  return ax.bar(x, y, w, bottom=start, log=log, **kwds)\n"
          ]
        },
        {
          "output_type": "display_data",
          "data": {
            "image/png": "[encoded data removed]",
            "text/plain": [
              "<Figure size 432x288 with 1 Axes>"
            ]
          },
          "metadata": {
            "needs_background": "light"
          }
        }
      ]
    },
    {
      "cell_type": "code",
      "source": [
        "import matplotlib.pyplot as plt\n",
        "fig, ax = plt.subplots()\n",
        "ax.bar(table.index, np.array(table).ravel())\n",
        "ax.set_xlabel(\"사망원인\")\n",
        "ax.set_ylabel(\"빈도수\")\n",
        "ax.set_title(\"사망원인에 따른 막대그래프\")\n",
        "plt.show()"
      ],
      "metadata": {
        "colab": {
          "base_uri": "https://localhost:8080/",
          "height": 294
        },
        "id": "am-qo9H9Xs1R",
        "outputId": "82fec444-b70c-4884-a17a-b87fae79ef1d"
      },
      "execution_count": null,
      "outputs": [
        {
          "output_type": "display_data",
          "data": {
            "image/png": "[encoded data removed]",
            "text/plain": [
              "<Figure size 432x288 with 1 Axes>"
            ]
          },
          "metadata": {
            "needs_background": "light"
          }
        }
      ]
    },
    {
      "cell_type": "markdown",
      "source": [
        "# **원형그래프**"
      ],
      "metadata": {
        "id": "EaGWs3afcn9d"
      }
    },
    {
      "cell_type": "code",
      "source": [
        "import matplotlib.pyplot as plt\n",
        "plt.pie(table, labels = table.index)\n",
        "plt.rc('font', size = 6)\n",
        "plt.title(\"사망원인에 대한 원형 그래프\")\n",
        "plt.show()"
      ],
      "metadata": {
        "colab": {
          "base_uri": "https://localhost:8080/",
          "height": 316
        },
        "id": "juadAYVhcxKY",
        "outputId": "291f52a0-1608-453c-b276-849e12d05190"
      },
      "execution_count": null,
      "outputs": [
        {
          "output_type": "stream",
          "name": "stderr",
          "text": [
            "/usr/local/lib/python3.7/dist-packages/ipykernel_launcher.py:2: MatplotlibDeprecationWarning: Non-1D inputs to pie() are currently squeeze()d, but this behavior is deprecated since 3.1 and will be removed in 3.3; pass a 1D array instead.\n",
            "  \n"
          ]
        },
        {
          "output_type": "display_data",
          "data": {
            "image/png": "[encoded data removed]",
            "text/plain": [
              "<Figure size 432x288 with 1 Axes>"
            ]
          },
          "metadata": {}
        }
      ]
    },
    {
      "cell_type": "code",
      "source": [
        "import matplotlib.pyplot as plt\n",
        "fig, ax = plt.subplots()\n",
        "ax.pie(table, labels=table.index)\n",
        "plt.title(\"사망원인에 대한 원형 그래프\")\n",
        "plt.show()"
      ],
      "metadata": {
        "colab": {
          "base_uri": "https://localhost:8080/",
          "height": 319
        },
        "id": "FnCT0CocOv0f",
        "outputId": "da014113-50c7-49ed-a21e-4136961e735b"
      },
      "execution_count": null,
      "outputs": [
        {
          "output_type": "stream",
          "name": "stderr",
          "text": [
            "/usr/local/lib/python3.7/dist-packages/ipykernel_launcher.py:3: MatplotlibDeprecationWarning: Non-1D inputs to pie() are currently squeeze()d, but this behavior is deprecated since 3.1 and will be removed in 3.3; pass a 1D array instead.\n",
            "  This is separate from the ipykernel package so we can avoid doing imports until\n"
          ]
        },
        {
          "output_type": "display_data",
          "data": {
            "image/png": "[encoded data removed]",
            "text/plain": [
              "<Figure size 432x288 with 1 Axes>"
            ]
          },
          "metadata": {}
        }
      ]
    },
    {
      "cell_type": "markdown",
      "source": [
        "# **파레토그림**"
      ],
      "metadata": {
        "id": "2nFrzNLIdyh7"
      }
    },
    {
      "cell_type": "code",
      "source": [
        "# !pip install --upgrade paretochart\n",
        "# 2to3 -w paretochart.py\n",
        "# 2to3 -w __init__.py\n",
        "# Anaconda 환경에서 파레토 그림 "
      ],
      "metadata": {
        "colab": {
          "base_uri": "https://localhost:8080/"
        },
        "id": "GFZkfmjreO5m",
        "outputId": "2424aa3c-8b87-483f-c5a7-3f2bbf1bc066"
      },
      "execution_count": null,
      "outputs": [
        {
          "output_type": "stream",
          "name": "stdout",
          "text": [
            "Requirement already satisfied: paretochart in /usr/local/lib/python3.7/dist-packages (1.0)\n",
            "Requirement already satisfied: matplotlib in /usr/local/lib/python3.7/dist-packages (from paretochart) (3.2.2)\n",
            "Requirement already satisfied: python-dateutil>=2.1 in /usr/local/lib/python3.7/dist-packages (from matplotlib->paretochart) (2.8.2)\n",
            "Requirement already satisfied: pyparsing!=2.0.4,!=2.1.2,!=2.1.6,>=2.0.1 in /usr/local/lib/python3.7/dist-packages (from matplotlib->paretochart) (3.0.6)\n",
            "Requirement already satisfied: numpy>=1.11 in /usr/local/lib/python3.7/dist-packages (from matplotlib->paretochart) (1.19.5)\n",
            "Requirement already satisfied: cycler>=0.10 in /usr/local/lib/python3.7/dist-packages (from matplotlib->paretochart) (0.11.0)\n",
            "Requirement already satisfied: kiwisolver>=1.0.1 in /usr/local/lib/python3.7/dist-packages (from matplotlib->paretochart) (1.3.2)\n",
            "Requirement already satisfied: six>=1.5 in /usr/local/lib/python3.7/dist-packages (from python-dateutil>=2.1->matplotlib->paretochart) (1.15.0)\n"
          ]
        }
      ]
    },
    {
      "cell_type": "code",
      "source": [
        "# Anaconda 환경에서 파레토 그림 \n",
        "from paretochart import pareto\n",
        "from matplotlib import rc\n",
        "import matplotlib.pyplot as plt\n",
        "import matplotlib.patches as mpatches #범례를 만들기 위한 모듈\n",
        "\n",
        "rc('font', family = 'NanumBarunGothic')\n",
        "plt.figure()\n",
        "fig, ax = plt.subplots()\n",
        "ax.paretoplot = pareto(table['도수'], data_kw = {'color':'blue'},\n",
        "                       line_args = ('black'), labels = table.index)\n",
        "\n",
        "p_legend = mpatches.Patch(color = 'black', label = '누적상대도수') #범례1\n",
        "p_legend1 = mpatches.Patch(color = 'blue', label = '빈도수') #범례2\n",
        "plt.legend(handles = [p_legend,p_legend1], loc = 'center right') #범례 표시\n",
        "\n",
        "plt.title(\"사망 원인\")\n",
        "plt.xlabel(\"질병종류\")\n",
        "ax.set_ylabel(\"Frequency\")\n",
        "plt.ylabel('cumulative percentage')\n",
        "plt.rc('font', size = 10)\n",
        "plt.show()"
      ],
      "metadata": {
        "colab": {
          "base_uri": "https://localhost:8080/",
          "height": 390
        },
        "id": "CDMvadP-d8N1",
        "outputId": "0b2d1ef1-6338-4cb6-dcae-8c5269e0e110"
      },
      "execution_count": null,
      "outputs": [
        {
          "output_type": "error",
          "ename": "ModuleNotFoundError",
          "evalue": "ignored",
          "traceback": [
            "\u001b[0;31m---------------------------------------------------------------------------\u001b[0m",
            "\u001b[0;31mModuleNotFoundError\u001b[0m                       Traceback (most recent call last)",
            "\u001b[0;32m<ipython-input-2-10353ec439e1>\u001b[0m in \u001b[0;36m<module>\u001b[0;34m()\u001b[0m\n\u001b[1;32m      1\u001b[0m \u001b[0;31m# Anaconda 환경에서 파레토 그림\u001b[0m\u001b[0;34m\u001b[0m\u001b[0;34m\u001b[0m\u001b[0;34m\u001b[0m\u001b[0m\n\u001b[0;32m----> 2\u001b[0;31m \u001b[0;32mfrom\u001b[0m \u001b[0mparetochart\u001b[0m \u001b[0;32mimport\u001b[0m \u001b[0mpareto\u001b[0m\u001b[0;34m\u001b[0m\u001b[0;34m\u001b[0m\u001b[0m\n\u001b[0m\u001b[1;32m      3\u001b[0m \u001b[0;32mfrom\u001b[0m \u001b[0mmatplotlib\u001b[0m \u001b[0;32mimport\u001b[0m \u001b[0mrc\u001b[0m\u001b[0;34m\u001b[0m\u001b[0;34m\u001b[0m\u001b[0m\n\u001b[1;32m      4\u001b[0m \u001b[0;32mimport\u001b[0m \u001b[0mmatplotlib\u001b[0m\u001b[0;34m.\u001b[0m\u001b[0mpyplot\u001b[0m \u001b[0;32mas\u001b[0m \u001b[0mplt\u001b[0m\u001b[0;34m\u001b[0m\u001b[0;34m\u001b[0m\u001b[0m\n\u001b[1;32m      5\u001b[0m \u001b[0;32mimport\u001b[0m \u001b[0mmatplotlib\u001b[0m\u001b[0;34m.\u001b[0m\u001b[0mpatches\u001b[0m \u001b[0;32mas\u001b[0m \u001b[0mmpatches\u001b[0m \u001b[0;31m#범례를 만들기 위한 모듈\u001b[0m\u001b[0;34m\u001b[0m\u001b[0;34m\u001b[0m\u001b[0m\n",
            "\u001b[0;31mModuleNotFoundError\u001b[0m: No module named 'paretochart'",
            "",
            "\u001b[0;31m---------------------------------------------------------------------------\u001b[0;32m\nNOTE: If your import is failing due to a missing package, you can\nmanually install dependencies using either !pip or !apt.\n\nTo view examples of installing some common dependencies, click the\n\"Open Examples\" button below.\n\u001b[0;31m---------------------------------------------------------------------------\u001b[0m\n"
          ],
          "errorDetails": {
            "actions": [
              {
                "action": "open_url",
                "actionText": "Open Examples",
                "url": "/notebooks/snippets/importing_libraries.ipynb"
              }
            ]
          }
        }
      ]
    },
    {
      "cell_type": "code",
      "source": [
        "from matplotlib import rc\n",
        "font_name = 'NanumBarunGothic'\n",
        "rc('font', family = font_name)\n",
        "\n",
        "import pandas as pd\n",
        "import matplotlib.pyplot as plt\n",
        "\n",
        "table = pd.crosstab(index = death, colnames = [\"질병\"], columns = '도수')\n",
        "table.index = [\"감염\", \"각종암\", \"순환기\", \"호흡기\", \"소화기\",\n",
        "               \"사고사\", \"비뇨기\", \"정신병\", \"노환\", \"신경계\"]\n",
        "df = pd.DataFrame(table)\n",
        "df = df.sort_values(by=\"도수\", ascending=False)\n",
        "df[\"cumulative percentage\"] = df[\"도수\"].cumsum()/df[\"도수\"].sum()*100\n",
        "\n",
        "fig, ax = plt.subplots()\n",
        "ax.bar(df.index, df[\"도수\"], color='b')\n",
        "plt.ylabel(\"Frequency\")\n",
        "ax2 = ax.twinx()\n",
        "ax2.plot(df.index, df[\"cumulative percentage\"], color='k')\n",
        "y2 = plt.ylabel(\"cumulative percentage\")\n",
        "\n",
        "plt.title(\"사망 원인\")\n",
        "plt.show()"
      ],
      "metadata": {
        "id": "2hQRhIYJ4W8s",
        "colab": {
          "base_uri": "https://localhost:8080/"
        },
        "outputId": "862bc186-9cf5-4b56-d2af-592212989827"
      },
      "execution_count": null,
      "outputs": [
        {
          "output_type": "display_data",
          "data": {
            "image/png": "[encoded data removed]",
            "text/plain": [
              "<Figure size 432x288 with 2 Axes>"
            ]
          },
          "metadata": {
            "needs_background": "light"
          }
        }
      ]
    },
    {
      "cell_type": "markdown",
      "source": [
        "# **히스토그램 및 도수다각형**"
      ],
      "metadata": {
        "id": "KzP3kDepnc0u"
      }
    },
    {
      "cell_type": "code",
      "source": [
        "import numpy as np\n",
        "drink = np.array([101.8, 101.5, 101.8, 102.6, 101, 96.8, 102.4, 100, 98.8, 98.1,\n",
        "                  98.8, 98, 99.4, 95.5, 100.1, 100.5, 97.4, 100.2, 101.4, 98.7,\n",
        "                  101.4, 99.4, 101.7, 99, 99.7, 98.9, 99.5, 100, 99.7, 100.9,\n",
        "                  99.7, 99, 98.8, 99.7, 100.9, 99.9, 97.5, 101.5, 98.2, 99.2,\n",
        "                  98.6, 101.4, 102.1, 102.9, 100.8, 99.4, 103.7, 100.3, 100.2, 101.1, \n",
        "                  101.8, 100, 101.2, 100.5, 101.2, 101.6, 99.9, 100.5, 100.4, 98,\n",
        "                  100.1, 101.6, 99.3, 96.1, 100, 99.7, 99.7, 99.4, 101.5, 100.9,\n",
        "                  101.3, 99.9, 99.1, 100.7, 100.8, 100.8, 101.4, 100.3, 98.4, 97.2])"
      ],
      "metadata": {
        "id": "iMg8Q4BCoOiJ"
      },
      "execution_count": null,
      "outputs": []
    },
    {
      "cell_type": "code",
      "source": [
        "import matplotlib.pyplot as plt\n",
        "\n",
        "plt.figure()\n",
        "n, bins, patches = plt.hist(drink, bins = 10, facecolor = \"blue\", alpha = 0.3)\n",
        "x = [(bins[i]+bins[i+1])/2 for i in range(len(bins)-1)]\n",
        "w_bin = bins[1]-bins[0]\n",
        "x.insert(0,x[0]-w_bin)\n",
        "x.append(x[-1]+w_bin)\n",
        "n = np.insert(n,0,0.0)\n",
        "n = np.append(n,0.0)\n",
        "plt.xlabel('drink')\n",
        "plt.ylabel('Frequency')\n",
        "plt.title(\"Histogram of drink\")\n",
        "plt.plot(x,n,'blue',marker='o')\n",
        "plt.show()"
      ],
      "metadata": {
        "colab": {
          "base_uri": "https://localhost:8080/",
          "height": 295
        },
        "id": "GPt8SBPOnkz2",
        "outputId": "a719c60a-1672-46bb-966b-5d3ff9cf6e76"
      },
      "execution_count": null,
      "outputs": [
        {
          "output_type": "display_data",
          "data": {
            "image/png": "[encoded data removed]",
            "text/plain": [
              "<Figure size 432x288 with 1 Axes>"
            ]
          },
          "metadata": {
            "needs_background": "light"
          }
        }
      ]
    }
  ]
}