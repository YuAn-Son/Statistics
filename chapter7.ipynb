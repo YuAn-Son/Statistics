{
  "nbformat": 4,
  "nbformat_minor": 0,
  "metadata": {
    "colab": {
      "name": "chapter7.ipynb",
      "provenance": [],
      "toc_visible": true,
      "authorship_tag": "ABX9TyNNmiTfg/QvDF+TFGQPYvua",
      "include_colab_link": true
    },
    "kernelspec": {
      "name": "python3",
      "display_name": "Python 3"
    },
    "language_info": {
      "name": "python"
    }
  },
  "cells": [
    {
      "cell_type": "markdown",
      "metadata": {
        "id": "view-in-github",
        "colab_type": "text"
      },
      "source": [
        "<a href=\"https://colab.research.google.com/github/YuAn-Son/Statistics/blob/main/chapter7.ipynb\" target=\"_parent\"><img src=\"https://colab.research.google.com/assets/colab-badge.svg\" alt=\"Open In Colab\"/></a>"
      ]
    },
    {
      "cell_type": "markdown",
      "source": [
        "# 베르누이 시행"
      ],
      "metadata": {
        "id": "ZLGFpbBErj4J"
      }
    },
    {
      "cell_type": "code",
      "execution_count": 9,
      "metadata": {
        "colab": {
          "base_uri": "https://localhost:8080/"
        },
        "id": "FJa-iiwZrfvz",
        "outputId": "004df8fd-9f5d-4d9c-d1de-f51cb9f87ed0"
      },
      "outputs": [
        {
          "output_type": "execute_result",
          "data": {
            "text/plain": [
              "array([0, 0, 1, 1, 0, 0, 1, 1, 1, 1])"
            ]
          },
          "metadata": {},
          "execution_count": 9
        }
      ],
      "source": [
        "import numpy as np\n",
        "n, p = 1, 0.5\n",
        "x = np.random.binomial(n, p, 10) #동전던지기시행\n",
        "x #동전을 한번 던졌을 때, 앞면이 나오는 횟수 (테스트 10번) = 시행 10번"
      ]
    },
    {
      "cell_type": "markdown",
      "source": [
        "1) 각 시행은 성공, 실패의 두 결과만을 갖는다. success, fail\n",
        "\n",
        "2) 각 시행에서 성공할 확률은 P(S)=p로, 실패할 확률은 P(F)=q=1-p 로 그 값이 일정하다.\n",
        "\n",
        "3) 각 시행은 서로 독립이다."
      ],
      "metadata": {
        "id": "AmCoQsbttL7D"
      }
    },
    {
      "cell_type": "markdown",
      "source": [
        "# 이항분포"
      ],
      "metadata": {
        "id": "V6KgUvYZtwsQ"
      }
    },
    {
      "cell_type": "code",
      "source": [
        "n, p = 10, 0.5\n",
        "x = np.random.binomial(n, p, 10) #확률변수(n번 시행 중 성공의 횟수)\n",
        "x #동전을 열 번 던졌을 때, 앞면이 나오는 횟수 (시행 10번)"
      ],
      "metadata": {
        "colab": {
          "base_uri": "https://localhost:8080/"
        },
        "id": "AvjFwnmtt_pA",
        "outputId": "9c3468b8-59f8-4faf-fc65-8f7a4ac820aa"
      },
      "execution_count": 11,
      "outputs": [
        {
          "output_type": "execute_result",
          "data": {
            "text/plain": [
              "array([5, 6, 3, 7, 8, 4, 5, 5, 6, 3])"
            ]
          },
          "metadata": {},
          "execution_count": 11
        }
      ]
    },
    {
      "cell_type": "code",
      "source": [
        "import matplotlib.pyplot as plt\n",
        "x1 = np.random.binomial(8, 0.3, 1000)\n",
        "counts1, bins = np.histogram(x1, bins=np.arange(10))\n",
        "x2 = np.random.binomial(8, 0.5, 1000)\n",
        "counts2, bins = np.histogram(x2, bins=np.arange(10))\n",
        "x3 = np.random.binomial(8, 0.9, 1000)\n",
        "counts3, bins = np.histogram(x3, bins=np.arange(10))"
      ],
      "metadata": {
        "id": "uUrUmGL-5nlM"
      },
      "execution_count": 50,
      "outputs": []
    },
    {
      "cell_type": "code",
      "source": [
        "fig, axs = plt.subplots(1,3, figsize=(10,3))\n",
        "axs[0].hist(bins[:-1], bins, weights=counts1)\n",
        "axs[1].hist(bins[:-1], bins, weights=counts2)\n",
        "axs[2].hist(bins[:-1], bins, weights=counts3)\n",
        "axs[0].set_title('p=0.3')\n",
        "axs[1].set_title('p=0.5')\n",
        "axs[2].set_title('p=0.9')\n",
        "plt.show()"
      ],
      "metadata": {
        "colab": {
          "base_uri": "https://localhost:8080/",
          "height": 227
        },
        "id": "cG3yGPt59nz4",
        "outputId": "9fa64377-f1b3-4600-8bf4-29cde4c6dfdd"
      },
      "execution_count": 55,
      "outputs": [
        {
          "output_type": "display_data",
          "data": {
            "image/png": "[encoded data removed]",
            "text/plain": [
              "<Figure size 720x216 with 3 Axes>"
            ]
          },
          "metadata": {
            "needs_background": "light"
          }
        }
      ]
    },
    {
      "cell_type": "markdown",
      "source": [
        "E(X) = np"
      ],
      "metadata": {
        "id": "yhGB_LlZDVoK"
      }
    },
    {
      "cell_type": "code",
      "source": [
        "n, p = 3, 0.6\n",
        "y = []\n",
        "for i in range(1000):\n",
        "    x = np.random.binomial(n, p, 100)\n",
        "    y.append(np.mean(x))\n",
        "print(np.mean(y))"
      ],
      "metadata": {
        "colab": {
          "base_uri": "https://localhost:8080/"
        },
        "id": "C6-2sasU-AyI",
        "outputId": "8ab412d8-8447-4a37-92c5-1ef6cf6e0955"
      },
      "execution_count": 83,
      "outputs": [
        {
          "output_type": "stream",
          "name": "stdout",
          "text": [
            "1.8052300000000001\n"
          ]
        }
      ]
    },
    {
      "cell_type": "markdown",
      "source": [
        "Var(X) = npq"
      ],
      "metadata": {
        "id": "k2xBiCc2DZpE"
      }
    },
    {
      "cell_type": "code",
      "source": [
        "n, p = 3, 0.6\n",
        "y = []\n",
        "for i in range(1000):\n",
        "    x = np.random.binomial(n, p, 1000)\n",
        "    y.append(np.var(x, ddof=1))\n",
        "print(np.mean(y))"
      ],
      "metadata": {
        "colab": {
          "base_uri": "https://localhost:8080/"
        },
        "id": "I9fFcZmFEw7N",
        "outputId": "f858d3b5-60c6-417a-b4fe-80fb96048430"
      },
      "execution_count": 96,
      "outputs": [
        {
          "output_type": "stream",
          "name": "stdout",
          "text": [
            "0.7201690150150151\n"
          ]
        }
      ]
    },
    {
      "cell_type": "markdown",
      "source": [
        "sd(X)^2 = Var(X)"
      ],
      "metadata": {
        "id": "9ERuZansFTiq"
      }
    },
    {
      "cell_type": "code",
      "source": [
        "n, p = 3, 0.6\n",
        "y = []\n",
        "for i in range(1000):\n",
        "    x = np.random.binomial(n, p, 1000)\n",
        "    y.append(np.std(x, ddof=1))\n",
        "print(np.mean(y))"
      ],
      "metadata": {
        "colab": {
          "base_uri": "https://localhost:8080/"
        },
        "id": "NIzAYEm0FviN",
        "outputId": "e9b12271-5fe4-4b37-ba97-fc3649dd202d"
      },
      "execution_count": 98,
      "outputs": [
        {
          "output_type": "stream",
          "name": "stdout",
          "text": [
            "0.8477729350448046\n"
          ]
        }
      ]
    },
    {
      "cell_type": "markdown",
      "source": [
        "# 초기하분포"
      ],
      "metadata": {
        "id": "FWf-JgutGsXV"
      }
    },
    {
      "cell_type": "code",
      "source": [
        "# hypergeometric distribution\n",
        "from scipy.stats import hypergeom\n",
        "[M, n, N] = [48, 12, 8] #M:모집단 크기, n:모집단 내에서 범주A에 속하는 구성원소의 수, N:표본의 크기\n",
        "prb = hypergeom.cdf(0, M, n, N)\n",
        "1-prb"
      ],
      "metadata": {
        "colab": {
          "base_uri": "https://localhost:8080/"
        },
        "id": "Nri6FKcsGu-L",
        "outputId": "fa678136-8535-4157-ff3e-27e3dc68be9f"
      },
      "execution_count": 105,
      "outputs": [
        {
          "output_type": "execute_result",
          "data": {
            "text/plain": [
              "0.9198080808981832"
            ]
          },
          "metadata": {},
          "execution_count": 105
        }
      ]
    },
    {
      "cell_type": "markdown",
      "source": [
        "# 포아송분포"
      ],
      "metadata": {
        "id": "EKzy6qAPJn4G"
      }
    },
    {
      "cell_type": "code",
      "source": [
        "from scipy.stats import poisson\n",
        "x, mu = 10, 8\n",
        "poisson.cdf(x, mu)"
      ],
      "metadata": {
        "colab": {
          "base_uri": "https://localhost:8080/"
        },
        "id": "A0RGHlXjJqL4",
        "outputId": "99feb783-4631-4a70-ff0a-cac07a0f5a9d"
      },
      "execution_count": 113,
      "outputs": [
        {
          "output_type": "execute_result",
          "data": {
            "text/plain": [
              "0.8158857925585467"
            ]
          },
          "metadata": {},
          "execution_count": 113
        }
      ]
    }
  ]
}